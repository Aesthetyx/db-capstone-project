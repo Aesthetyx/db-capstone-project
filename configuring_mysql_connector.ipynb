{
 "cells": [
  {
   "attachments": {},
   "cell_type": "markdown",
   "metadata": {},
   "source": [
    "### Install required packages"
   ]
  },
  {
   "cell_type": "code",
   "execution_count": 10,
   "metadata": {},
   "outputs": [
    {
     "name": "stdout",
     "output_type": "stream",
     "text": [
      "Defaulting to user installation because normal site-packages is not writeable\n",
      "Requirement already satisfied: mysql-connector-python in /home/tanyixiang/.local/lib/python3.11/site-packages (8.0.32)\n",
      "Requirement already satisfied: protobuf<=3.20.3,>=3.11.0 in /home/tanyixiang/.local/lib/python3.11/site-packages (from mysql-connector-python) (3.20.3)\n",
      "Note: you may need to restart the kernel to use updated packages.\n"
     ]
    }
   ],
   "source": [
    "%pip install mysql-connector-python"
   ]
  },
  {
   "attachments": {},
   "cell_type": "markdown",
   "metadata": {},
   "source": [
    "### Import required packages"
   ]
  },
  {
   "cell_type": "code",
   "execution_count": 11,
   "metadata": {},
   "outputs": [],
   "source": [
    "import mysql.connector as connector"
   ]
  },
  {
   "attachments": {},
   "cell_type": "markdown",
   "metadata": {},
   "source": [
    "### Task 1"
   ]
  },
  {
   "cell_type": "code",
   "execution_count": 12,
   "metadata": {},
   "outputs": [],
   "source": [
    "# Connect to MySQL server\n",
    "connection = connector.connect(user=\"admin\", password=\"Pass123!\", database=\"LittleLemonDB\")\n",
    "\n",
    "# Establish cursor\n",
    "cursor = connection.cursor()"
   ]
  },
  {
   "attachments": {},
   "cell_type": "markdown",
   "metadata": {},
   "source": [
    "### Task 2"
   ]
  },
  {
   "cell_type": "code",
   "execution_count": 16,
   "metadata": {},
   "outputs": [
    {
     "name": "stdout",
     "output_type": "stream",
     "text": [
      "Tables in current database:\n",
      "('Bookings',)\n",
      "('Customers',)\n",
      "('MenuItems',)\n",
      "('Menus',)\n",
      "('Order delivery statuses',)\n",
      "('Orders',)\n",
      "('OrdersView',)\n",
      "('Staff',)\n"
     ]
    }
   ],
   "source": [
    "show_table_query = \"\"\"SHOW tables\"\"\"\n",
    "cursor.execute(show_table_query)\n",
    "task_2_results = cursor.fetchall()\n",
    "print(\"Tables in current database:\")\n",
    "for i in task_2_results:\n",
    "    print(i)"
   ]
  },
  {
   "attachments": {},
   "cell_type": "markdown",
   "metadata": {},
   "source": [
    "### Task 3"
   ]
  },
  {
   "cell_type": "code",
   "execution_count": 18,
   "metadata": {},
   "outputs": [
    {
     "name": "stdout",
     "output_type": "stream",
     "text": [
      "('CustomerName', 'PhoneNumber', 'EmailAddress', 'TotalCost')\n",
      "('Aaron', '9318 0238', 'aaron@gmail.com', Decimal('100.00'))\n",
      "('Brenda', '8052 3920', 'brenda@gmail.com', Decimal('200.00'))\n",
      "('Cain', '9508 7314', 'cain@gmail.com', Decimal('450.00'))\n",
      "('Dan', '9200 3871', 'dan@gmail.com', Decimal('400.00'))\n",
      "('Erica', '9873 8956', 'erica@gmail.com', Decimal('750.00'))\n"
     ]
    }
   ],
   "source": [
    "customers_with_orders_above_60_query = \"\"\"\n",
    "SELECT Customers.CustomerName, Customers.PhoneNumber, Customers.EmailAddress, Orders.TotalCost FROM Customers INNER JOIN Orders ON Customers.CustomerID = Orders.CustomerID WHERE TotalCost > 60\n",
    "\"\"\"\n",
    "cursor.execute(customers_with_orders_above_60_query)\n",
    "task_3_results = cursor.fetchall()\n",
    "print(cursor.column_names)\n",
    "for i in task_3_results:\n",
    "    print(i)"
   ]
  },
  {
   "attachments": {},
   "cell_type": "markdown",
   "metadata": {},
   "source": [
    "### Close connection and cursor"
   ]
  },
  {
   "cell_type": "code",
   "execution_count": 23,
   "metadata": {},
   "outputs": [
    {
     "name": "stdout",
     "output_type": "stream",
     "text": [
      "Connection has already been terminated\n"
     ]
    }
   ],
   "source": [
    "if connection.is_connected():\n",
    "    cursor.close()\n",
    "    connection.close()\n",
    "    print(\"Connection and Cursor have been closed\")\n",
    "else:\n",
    "    print(\"Connection has already been terminated\")"
   ]
  }
 ],
 "metadata": {
  "kernelspec": {
   "display_name": "Python 3",
   "language": "python",
   "name": "python3"
  },
  "language_info": {
   "codemirror_mode": {
    "name": "ipython",
    "version": 3
   },
   "file_extension": ".py",
   "mimetype": "text/x-python",
   "name": "python",
   "nbconvert_exporter": "python",
   "pygments_lexer": "ipython3",
   "version": "3.11.1"
  },
  "orig_nbformat": 4
 },
 "nbformat": 4,
 "nbformat_minor": 2
}
