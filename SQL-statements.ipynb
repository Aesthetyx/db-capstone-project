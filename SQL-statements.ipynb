{
 "cells": [
  {
   "attachments": {},
   "cell_type": "markdown",
   "metadata": {},
   "source": [
    "### Week 2 - Adding Sales Report - Exercise 1 Task 1"
   ]
  },
  {
   "cell_type": "code",
   "execution_count": null,
   "metadata": {
    "vscode": {
     "languageId": "sql"
    }
   },
   "outputs": [],
   "source": [
    "USE `LittleLemonDB`;\n",
    "CREATE  OR REPLACE VIEW `OrdersView` AS SELECT OrderID, Quantity, TotalCost FROM Orders WHERE Quantity > 2;"
   ]
  },
  {
   "attachments": {},
   "cell_type": "markdown",
   "metadata": {},
   "source": [
    "### Week 2 - Adding Sales Report - Exercise 1 Task 2"
   ]
  },
  {
   "cell_type": "code",
   "execution_count": null,
   "metadata": {
    "vscode": {
     "languageId": "sql"
    }
   },
   "outputs": [],
   "source": [
    "SELECT Customers.CustomerID, Customers.CustomerName, Orders.OrderID, Orders.TotalCost, Menus.MenuName, MenuItems.CourseName, MenuItems.StarterName FROM Customers\n",
    "INNER JOIN Orders ON Customers.CustomerID = Orders.CustomerID\n",
    "INNER JOIN Menus ON Orders.MenuID = Menus.MenuID\n",
    "INNER JOIN MenuItems ON Menus.MenuItemID = MenuItems.MenuItemID\n",
    "WHERE TotalCost > 150"
   ]
  },
  {
   "attachments": {},
   "cell_type": "markdown",
   "metadata": {},
   "source": [
    "### Week 2 - Adding Sales Report - Exercise 1 Task 3"
   ]
  },
  {
   "cell_type": "code",
   "execution_count": null,
   "metadata": {
    "vscode": {
     "languageId": "sql"
    }
   },
   "outputs": [],
   "source": [
    "Select MenuName FROM Menus WHERE MenuID IN (SELECT MenuID FROM Orders WHERE Quantity > 2)"
   ]
  },
  {
   "attachments": {},
   "cell_type": "markdown",
   "metadata": {},
   "source": [
    "### Week 2 - Adding Sales Report - Exercise 2 Task 1"
   ]
  },
  {
   "cell_type": "code",
   "execution_count": null,
   "metadata": {
    "vscode": {
     "languageId": "sql"
    }
   },
   "outputs": [],
   "source": [
    "CREATE PROCEDURE `GetMaxQuantity`() SELECT MAX(Quantity) AS \"Max Quantity in Order\" FROM Orders"
   ]
  },
  {
   "attachments": {},
   "cell_type": "markdown",
   "metadata": {},
   "source": [
    "### Week 2 - Adding Sales Report - Exercise 2 Task 2"
   ]
  },
  {
   "cell_type": "code",
   "execution_count": null,
   "metadata": {
    "vscode": {
     "languageId": "sql"
    }
   },
   "outputs": [],
   "source": [
    "PREPARE GetOrderDetail FROM \"SELECT OrderID, Quantity, TotalCost FROM Orders WHERE CustomerID = ?\";\n",
    "\n",
    "SET @id = 1;\n",
    "EXECUTE GetOrderDetail USING @id;"
   ]
  },
  {
   "attachments": {},
   "cell_type": "markdown",
   "metadata": {},
   "source": [
    "### Week 2 - Adding Sales Report - Exercise 2 Task 3"
   ]
  },
  {
   "cell_type": "code",
   "execution_count": null,
   "metadata": {
    "vscode": {
     "languageId": "sql"
    }
   },
   "outputs": [],
   "source": [
    "DROP PROCEDURE IF EXISTS CancelOrder;\n",
    "DELIMITER //\n",
    "CREATE PROCEDURE CancelOrder(IN order_id INT)\n",
    "BEGIN\n",
    "DELETE FROM Orders WHERE OrderId = order_id;\n",
    "SELECT CONCAT(\"Order \", order_id, \" is cancelled\") AS Confirmation;\n",
    "END //\n",
    "DELIMITER ;"
   ]
  }
 ],
 "metadata": {
  "language_info": {
   "name": "python"
  },
  "orig_nbformat": 4
 },
 "nbformat": 4,
 "nbformat_minor": 2
}
