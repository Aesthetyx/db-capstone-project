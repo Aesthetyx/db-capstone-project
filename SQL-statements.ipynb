{
 "cells": [
  {
   "attachments": {},
   "cell_type": "markdown",
   "metadata": {},
   "source": [
    "### Week 2 - Adding Sales Report - Exercise 1 Task 1"
   ]
  },
  {
   "cell_type": "code",
   "execution_count": null,
   "metadata": {
    "vscode": {
     "languageId": "sql"
    }
   },
   "outputs": [],
   "source": [
    "USE `LittleLemonDB`;\n",
    "CREATE  OR REPLACE VIEW `OrdersView` AS SELECT OrderID, Quantity, TotalCost FROM Orders WHERE Quantity > 2;\n",
    "\n",
    "SELECT * FROM OrdersView;"
   ]
  },
  {
   "attachments": {},
   "cell_type": "markdown",
   "metadata": {},
   "source": [
    "### Week 2 - Adding Sales Report - Exercise 1 Task 2"
   ]
  },
  {
   "cell_type": "code",
   "execution_count": null,
   "metadata": {
    "vscode": {
     "languageId": "sql"
    }
   },
   "outputs": [],
   "source": [
    "SELECT Customers.CustomerID, Customers.CustomerName, Orders.OrderID, Orders.TotalCost, Menus.MenuName, MenuItems.CourseName, MenuItems.StarterName FROM Customers\n",
    "INNER JOIN Orders ON Customers.CustomerID = Orders.CustomerID\n",
    "INNER JOIN Menus ON Orders.MenuID = Menus.MenuID\n",
    "INNER JOIN MenuItems ON Menus.MenuItemID = MenuItems.MenuItemID\n",
    "WHERE TotalCost > 150;"
   ]
  },
  {
   "attachments": {},
   "cell_type": "markdown",
   "metadata": {},
   "source": [
    "### Week 2 - Adding Sales Report - Exercise 1 Task 3"
   ]
  },
  {
   "cell_type": "code",
   "execution_count": null,
   "metadata": {
    "vscode": {
     "languageId": "sql"
    }
   },
   "outputs": [],
   "source": [
    "Select MenuName FROM Menus WHERE MenuID IN (SELECT MenuID FROM Orders WHERE Quantity > 2);"
   ]
  },
  {
   "attachments": {},
   "cell_type": "markdown",
   "metadata": {},
   "source": [
    "### Week 2 - Adding Sales Report - Exercise 2 Task 1"
   ]
  },
  {
   "cell_type": "code",
   "execution_count": null,
   "metadata": {
    "vscode": {
     "languageId": "sql"
    }
   },
   "outputs": [],
   "source": [
    "CREATE PROCEDURE `GetMaxQuantity`() SELECT MAX(Quantity) AS \"Max Quantity in Order\" FROM Orders;\n",
    "\n",
    "CALL GetMaxQuantity();"
   ]
  },
  {
   "attachments": {},
   "cell_type": "markdown",
   "metadata": {},
   "source": [
    "### Week 2 - Adding Sales Report - Exercise 2 Task 2"
   ]
  },
  {
   "cell_type": "code",
   "execution_count": null,
   "metadata": {
    "vscode": {
     "languageId": "sql"
    }
   },
   "outputs": [],
   "source": [
    "PREPARE GetOrderDetail FROM \"SELECT OrderID, Quantity, TotalCost FROM Orders WHERE CustomerID = ?\";\n",
    "\n",
    "SET @id = 1;\n",
    "EXECUTE GetOrderDetail USING @id;"
   ]
  },
  {
   "attachments": {},
   "cell_type": "markdown",
   "metadata": {},
   "source": [
    "### Week 2 - Adding Sales Report - Exercise 2 Task 3"
   ]
  },
  {
   "cell_type": "code",
   "execution_count": null,
   "metadata": {
    "vscode": {
     "languageId": "sql"
    }
   },
   "outputs": [],
   "source": [
    "DROP PROCEDURE IF EXISTS CancelOrder;\n",
    "DELIMITER //\n",
    "CREATE PROCEDURE CancelOrder(IN order_id INT)\n",
    "BEGIN\n",
    "DELETE FROM Orders WHERE OrderId = order_id;\n",
    "SELECT CONCAT(\"Order \", order_id, \" is cancelled\") AS Confirmation;\n",
    "END //\n",
    "DELIMITER ;\n",
    "\n",
    "CALL CancelOrder(6);"
   ]
  },
  {
   "attachments": {},
   "cell_type": "markdown",
   "metadata": {},
   "source": [
    "### Week 2 - Table Booking System - Exercise 1 Task 1"
   ]
  },
  {
   "cell_type": "code",
   "execution_count": null,
   "metadata": {
    "vscode": {
     "languageId": "sql"
    }
   },
   "outputs": [],
   "source": [
    "INSERT INTO Bookings (BookingDate, BookingTime, TableNumber, NumberOfGuests, CustomerID) \n",
    "VALUES \n",
    "(\"2022-10-10\", \"18:00:00\", 5, 1, 1), \n",
    "(\"2022-11-12\", \"18:00:00\", 3, 1, 3), \n",
    "(\"2022-10-11\", \"18:00:00\", 2, 1, 2), \n",
    "(\"2022-10-13\", \"18:00:00\", 2, 1, 1);\n",
    "\n",
    "SELECT * FROM Bookings;"
   ]
  },
  {
   "attachments": {},
   "cell_type": "markdown",
   "metadata": {},
   "source": [
    "### Week 2 - Table Booking System - Exercise 1 Task 2"
   ]
  },
  {
   "cell_type": "code",
   "execution_count": null,
   "metadata": {
    "vscode": {
     "languageId": "sql"
    }
   },
   "outputs": [],
   "source": [
    "DROP PROCEDURE IF EXISTS CheckBooking;\n",
    "\n",
    "DELIMITER //\n",
    "CREATE PROCEDURE CheckBooking(booking_date DATE, booking_time TIME, table_number INT)\n",
    "BEGIN\n",
    "DECLARE status_of_table VARCHAR(255) DEFAULT \"is available\";\n",
    "IF table_number IN (SELECT TableNumber FROM Bookings WHERE BookingDate = booking_date AND BookingTime = booking_time) THEN SET status_of_table = \"is already booked\";\n",
    "END IF;\n",
    "SELECT CONCAT(\"Table \", table_number, \" \", status_of_table, \" for \", booking_time, \" on \", booking_date) AS \"Booking Status\";\n",
    "END //\n",
    "DELIMITER ;\n",
    "\n",
    "call CheckBooking(\"2022-11-12\", \"18:00:00\", 3);"
   ]
  },
  {
   "attachments": {},
   "cell_type": "markdown",
   "metadata": {},
   "source": [
    "### Week 2 - Table Booking System - Exercise 1 Task 3"
   ]
  },
  {
   "cell_type": "code",
   "execution_count": null,
   "metadata": {
    "vscode": {
     "languageId": "sql"
    }
   },
   "outputs": [],
   "source": [
    "DROP PROCEDURE IF EXISTS AddValidBooking;\n",
    "\n",
    "DELIMITER //\n",
    "CREATE PROCEDURE AddValidBooking(booking_date DATE, booking_time TIME, table_number INT, number_of_guests INT, customer_id INT)\n",
    "BEGIN\n",
    "DECLARE status_of_table VARCHAR(255) DEFAULT \"is available - booking confirmed\";\n",
    "START TRANSACTION;\n",
    "INSERT INTO Bookings (BookingDate, BookingTime, TableNumber, NumberOfGuests, CustomerID) \n",
    "VALUES (booking_date, booking_time, table_number, number_of_guests, customer_id);\n",
    "IF (SELECT COUNT(customerID) FROM Bookings WHERE BookingDate = booking_date AND BookingTime = booking_time AND TableNumber = table_number) > 1 THEN\n",
    "SET status_of_table = \"is already booked - booking cancelled\";\n",
    "END IF;\n",
    "IF status_of_table = \"is already booked - booking cancelled\" THEN ROLLBACK;\n",
    "ELSE COMMIT;\n",
    "END IF;\n",
    "SELECT CONCAT(\"Table \", table_number, \" \", status_of_table) AS \"Booking Status\";\n",
    "END //\n",
    "DELIMITER ;\n",
    "\n",
    "CALL AddValidBooking(\"2022-10-10\", \"18:00:00\", 5, 2, 2);"
   ]
  },
  {
   "attachments": {},
   "cell_type": "markdown",
   "metadata": {},
   "source": [
    "### Week 2 - Table Booking System - Exercise 2 Task 1"
   ]
  },
  {
   "cell_type": "code",
   "execution_count": null,
   "metadata": {
    "vscode": {
     "languageId": "sql"
    }
   },
   "outputs": [],
   "source": [
    "DROP PROCEDURE IF EXISTS AddBooking;\n",
    "\n",
    "DELIMITER //\n",
    "CREATE PROCEDURE AddBooking(booking_date DATE, booking_time TIME, table_number INT, number_of_guests INT, customer_id INT)\n",
    "BEGIN\n",
    "DECLARE booking_id INT;\n",
    "INSERT INTO Bookings (BookingDate, BookingTime, TableNumber, NumberOfGuests, CustomerID) \n",
    "VALUES (booking_date, booking_time, table_number, number_of_guests, customer_id);\n",
    "SET booking_id = (SELECT BookingID FROM Bookings WHERE BookingDate = booking_date AND BookingTime = booking_time AND TableNumber = table_number AND NumberOfGuests = number_of_guests AND CustomerID = customer_id);\n",
    "SELECT CONCAT(\"New booking \", booking_id, \" confirmed for table \", table_number, \" for \", number_of_guests, \" guests at \", booking_time, \" on \", booking_date) AS Confirmation;\n",
    "END //\n",
    "DELIMITER ;\n",
    "\n",
    "CALL AddBooking(\"2022-12-30\", \"18:00:00\", 4, 2, 3);"
   ]
  },
  {
   "attachments": {},
   "cell_type": "markdown",
   "metadata": {},
   "source": [
    "### Week 2 - Table Booking System - Exercise 2 Task 2"
   ]
  },
  {
   "cell_type": "code",
   "execution_count": null,
   "metadata": {
    "vscode": {
     "languageId": "sql"
    }
   },
   "outputs": [],
   "source": [
    "DROP PROCEDURE IF EXISTS UpdateBooking;\n",
    "\n",
    "DELIMITER //\n",
    "CREATE PROCEDURE UpdateBooking(booking_id INT, booking_date DATE, booking_time TIME, table_number INT, number_of_guests INT)\n",
    "BEGIN\n",
    "UPDATE Bookings SET BookingDate = booking_date, BookingTime = booking_time, TableNumber = table_number, NumberOfGuests = number_of_guests WHERE BookingID = booking_id;\n",
    "SELECT CONCAT(\"Booking \", booking_id, \" updated\") AS Confirmation;\n",
    "END //\n",
    "DELIMITER ;\n",
    "\n",
    "CALL UpdateBooking(10, \"2022-12-31\", \"18:00:00\", 4, 2);"
   ]
  },
  {
   "attachments": {},
   "cell_type": "markdown",
   "metadata": {},
   "source": [
    "### Week 2 - Table Booking System - Exercise 2 Task 3"
   ]
  },
  {
   "cell_type": "code",
   "execution_count": null,
   "metadata": {
    "vscode": {
     "languageId": "sql"
    }
   },
   "outputs": [],
   "source": [
    "DROP PROCEDURE IF EXISTS CancelBooking;\n",
    "\n",
    "DELIMITER //\n",
    "CREATE PROCEDURE CancelBooking(booking_id INT)\n",
    "BEGIN\n",
    "DELETE FROM Bookings WHERE BookingID = booking_id;\n",
    "SELECT CONCAT(\"Booking \", booking_id, \" cancelled\") AS Confirmation;\n",
    "END //\n",
    "DELIMITER ;\n",
    "\n",
    "CALL CancelBooking(10);"
   ]
  }
 ],
 "metadata": {
  "language_info": {
   "name": "python"
  },
  "orig_nbformat": 4
 },
 "nbformat": 4,
 "nbformat_minor": 2
}
