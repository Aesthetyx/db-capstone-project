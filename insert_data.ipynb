{
 "cells": [
  {
   "attachments": {},
   "cell_type": "markdown",
   "metadata": {},
   "source": [
    "### Data for Customers Table"
   ]
  },
  {
   "cell_type": "code",
   "execution_count": null,
   "metadata": {
    "vscode": {
     "languageId": "sql"
    }
   },
   "outputs": [],
   "source": [
    "INSERT INTO `LittleLemonDB`.`Customers` (`CustomerName`, `PhoneNumber`, `EmailAddress`) VALUES ('Aaron', '9318 0238', 'aaron@gmail.com');\n",
    "INSERT INTO `LittleLemonDB`.`Customers` (`CustomerName`, `PhoneNumber`, `EmailAddress`) VALUES ('Brenda', '8052 3920', 'brenda@gmail.com');\n",
    "INSERT INTO `LittleLemonDB`.`Customers` (`CustomerName`, `PhoneNumber`, `EmailAddress`) VALUES ('Cain', '9508 7314', 'cain@gmail.com');\n",
    "INSERT INTO `LittleLemonDB`.`Customers` (`CustomerName`, `PhoneNumber`, `EmailAddress`) VALUES ('Dan', '9200 3871', 'dan@gmail.com');\n",
    "INSERT INTO `LittleLemonDB`.`Customers` (`CustomerName`, `PhoneNumber`, `EmailAddress`) VALUES ('Erica', '9873 8956', 'erica@gmail.com');"
   ]
  },
  {
   "attachments": {},
   "cell_type": "markdown",
   "metadata": {},
   "source": [
    "### Data for Bookings Table"
   ]
  },
  {
   "cell_type": "code",
   "execution_count": null,
   "metadata": {
    "vscode": {
     "languageId": "sql"
    }
   },
   "outputs": [],
   "source": [
    "INSERT INTO `LittleLemonDB`.`Bookings` (`BookingDate`, `BookingTime`, `TableNumber`, `NumberOfGuests`, `CustomerID`) VALUES ('2023-05-05', '17:00:00', '1', '1', '1');\n",
    "INSERT INTO `LittleLemonDB`.`Bookings` (`BookingDate`, `BookingTime`, `TableNumber`, `NumberOfGuests`, `CustomerID`) VALUES ('2023-05-05', '17:00:00', '2', '2', '2');\n",
    "INSERT INTO `LittleLemonDB`.`Bookings` (`BookingDate`, `BookingTime`, `TableNumber`, `NumberOfGuests`, `CustomerID`) VALUES ('2023-05-05', '17:30:00', '3', '3', '3');\n",
    "INSERT INTO `LittleLemonDB`.`Bookings` (`BookingDate`, `BookingTime`, `TableNumber`, `NumberOfGuests`, `CustomerID`) VALUES ('2023-05-05', '18:30:00', '4', '4', '4');\n",
    "INSERT INTO `LittleLemonDB`.`Bookings` (`BookingDate`, `BookingTime`, `TableNumber`, `NumberOfGuests`, `CustomerID`) VALUES ('2023-05-05', '20:00:00', '5', '5', '5');"
   ]
  },
  {
   "attachments": {},
   "cell_type": "markdown",
   "metadata": {},
   "source": [
    "### Data for MenuItems Table"
   ]
  },
  {
   "cell_type": "code",
   "execution_count": null,
   "metadata": {
    "vscode": {
     "languageId": "sql"
    }
   },
   "outputs": [],
   "source": [
    "INSERT INTO `LittleLemonDB`.`MenuItems` (`StarterName`, `CourseName`, `DrinkName`, `DessertName`) VALUES ('Spring Roll', 'Chicken Rice', 'Chinese Tea', 'Egg Tart');\n",
    "INSERT INTO `LittleLemonDB`.`MenuItems` (`StarterName`, `CourseName`, `DrinkName`, `DessertName`) VALUES ('Focaccia', 'Carbonara', 'Campari', 'Tiramisu');"
   ]
  },
  {
   "attachments": {},
   "cell_type": "markdown",
   "metadata": {},
   "source": [
    "### Data for Menu Table"
   ]
  },
  {
   "cell_type": "code",
   "execution_count": null,
   "metadata": {
    "vscode": {
     "languageId": "sql"
    }
   },
   "outputs": [],
   "source": [
    "INSERT INTO `LittleLemonDB`.`Menu` (`Name`, `Cuisine`, `Description`, `Price`, `MenuItemsID`) VALUES ('Chinese', 'Chinese', 'Chinese', '100', '1');\n",
    "INSERT INTO `LittleLemonDB`.`Menu` (`Name`, `Cuisine`, `Description`, `Price`, `MenuItemsID`) VALUES ('Italian', 'Italian', 'Italian', '150', '2');"
   ]
  },
  {
   "attachments": {},
   "cell_type": "markdown",
   "metadata": {},
   "source": [
    "### Data for Orders Table"
   ]
  },
  {
   "cell_type": "code",
   "execution_count": null,
   "metadata": {
    "vscode": {
     "languageId": "sql"
    }
   },
   "outputs": [],
   "source": [
    "INSERT INTO `LittleLemonDB`.`Orders` (`Date`, `MenuID`, `Quantity`, `TotalCost`, `BookingID`, `CustomerID`) VALUES ('2023-05-05', '1', '1', '100', '1', '1');\n",
    "INSERT INTO `LittleLemonDB`.`Orders` (`Date`, `MenuID`, `Quantity`, `TotalCost`, `BookingID`, `CustomerID`) VALUES ('2023-05-05', '1', '2', '200', '2', '2');\n",
    "INSERT INTO `LittleLemonDB`.`Orders` (`Date`, `MenuID`, `Quantity`, `TotalCost`, `BookingID`, `CustomerID`) VALUES ('2023-05-05', '2', '3', '450', '3', '3');\n",
    "INSERT INTO `LittleLemonDB`.`Orders` (`Date`, `MenuID`, `Quantity`, `TotalCost`, `BookingID`, `CustomerID`) VALUES ('2023-05-05', '1', '4', '400', '4', '4');\n",
    "INSERT INTO `LittleLemonDB`.`Orders` (`Date`, `MenuID`, `Quantity`, `TotalCost`, `BookingID`, `CustomerID`) VALUES ('2023-05-05', '2', '5', '750', '5', '5');"
   ]
  },
  {
   "attachments": {},
   "cell_type": "markdown",
   "metadata": {},
   "source": [
    "### Data for Staff Table"
   ]
  },
  {
   "attachments": {},
   "cell_type": "markdown",
   "metadata": {},
   "source": [
    "### Data for Order delivery statuses Table"
   ]
  }
 ],
 "metadata": {
  "language_info": {
   "name": "python"
  },
  "orig_nbformat": 4
 },
 "nbformat": 4,
 "nbformat_minor": 2
}
